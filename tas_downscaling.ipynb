{
 "cells": [
  {
   "cell_type": "code",
   "execution_count": null,
   "id": "9c6a596f",
   "metadata": {},
   "outputs": [],
   "source": [
    "# 设置工作路径\n",
    "import os\n",
    "os.chdir(\"/media/sf_VM_VirtualBox_Ubnutu/tas\")\n",
    "!ls"
   ]
  },
  {
   "cell_type": "code",
   "execution_count": null,
   "id": "6be3dae9",
   "metadata": {},
   "outputs": [],
   "source": [
    "# 合并不同时间的同模式文件\n",
    "# 运行前在路径中新建“tas_mergetime”文件夹\n",
    "import subprocess\n",
    "\n",
    "os.mkdir(\"/media/sf_VM_VirtualBox_Ubnutu/tas_111/tas_mergetime\") # 新建文件夹\n",
    "# 获取当前目录下所有文件的列表\n",
    "file_list = os.listdir()\n",
    "# 去除文件名后续日期\n",
    "for i in range(len(file_list)):\n",
    "    file_list[i]=file_list[i][0:-19]\n",
    "# 去除重复项\n",
    "file_list=list(set(file_list)) \n",
    "\n",
    "for file in file_list:\n",
    "    # python文件路径变量定义\n",
    "    file_path = file+'*.nc'\n",
    "    output_path = '/media/sf_VM_VirtualBox_Ubnutu/tas_111/tas_mergetime/'+file+'mergetime.nc'\n",
    "    # 构建cdo命令\n",
    "    command = f'cdo -mergetime {file_path} {output_path}'\n",
    "    # 运行cdo命令\n",
    "    subprocess.run(command, shell=True)"
   ]
  },
  {
   "cell_type": "code",
   "execution_count": null,
   "id": "61d39694",
   "metadata": {
    "scrolled": true
   },
   "outputs": [],
   "source": [
    "os.chdir(\"/media/sf_VM_VirtualBox_Ubnutu/tas_111/tas_mergetime\")\n",
    "!ls"
   ]
  },
  {
   "cell_type": "code",
   "execution_count": null,
   "id": "c3d0bf5a",
   "metadata": {},
   "outputs": [],
   "source": [
    "# 筛选进行运算的年份(时间)\n",
    "# 运行前在路径中新建“tas_seltime”文件夹\n",
    "import subprocess\n",
    "\n",
    "os.mkdir(\"/media/sf_VM_VirtualBox_Ubnutu/tas_111/tas_seltime\") # 新建文件夹\n",
    "# 获取路径文件列表\n",
    "file_list = os.listdir()\n",
    "# 筛选模式的数据年份\n",
    "for file in file_list:\n",
    "    # 定义路径变量：文件、历史文件、预测文件\n",
    "    file_path = file\n",
    "    # 分historical与其它模式分别构建命令\n",
    "    output_path1 = '/media/sf_VM_VirtualBox_Ubnutu/tas_111/tas_seltime/'+file[0:-12]+'197101-200012.nc'\n",
    "    output_path2 = '/media/sf_VM_VirtualBox_Ubnutu/tas_111/tas_seltime/'+file[0:-12]+'200101-201412.nc'\n",
    "    output_path3 = '/media/sf_VM_VirtualBox_Ubnutu/tas_111/tas_seltime/'+file[0:-12]+'201501-206012.nc'\n",
    "    # 构建cdo命令\n",
    "    command1 = f'cdo -selyear,1971/2000 {file_path} {output_path1}'\n",
    "    command2 = f'cdo -selyear,2001/2014 {file_path} {output_path2}'\n",
    "    command3 = f'cdo -selyear,2015/2060 {file_path} {output_path3}'\n",
    "    # 分类运行时间筛选的cdo命令\n",
    "    if \"historical\" in file:\n",
    "        subprocess.run(command1, shell=True)\n",
    "        subprocess.run(command2, shell=True)\n",
    "    else:\n",
    "        subprocess.run(command3, shell=True)"
   ]
  },
  {
   "cell_type": "code",
   "execution_count": null,
   "id": "217cece3",
   "metadata": {
    "scrolled": true
   },
   "outputs": [],
   "source": [
    "os.chdir(\"/media/sf_VM_VirtualBox_Ubnutu/tas_111/tas_seltime\")\n",
    "!ls"
   ]
  },
  {
   "cell_type": "code",
   "execution_count": null,
   "id": "fd68c0e4",
   "metadata": {},
   "outputs": [],
   "source": [
    "!cdo showyear tas_Amon_AWI-CM-1-1-MR_historical_r1i1p1f1_197101-200012.nc"
   ]
  },
  {
   "cell_type": "code",
   "execution_count": null,
   "id": "cd4340f1",
   "metadata": {},
   "outputs": [],
   "source": [
    "# 求各模式文件的年均气温\n",
    "# 运行前在路径中新建“tas_yearmean”文件夹\n",
    "#os.chdir(\"/media/sf_VM_VirtualBox_Ubnutu/tas_seltime\")\n",
    "\n",
    "os.mkdir(\"/media/sf_VM_VirtualBox_Ubnutu/tas_111/tas_yearmean\") # 新建文件夹\n",
    "file_list = os.listdir()\n",
    "# 筛选模式的数据年份\n",
    "for file in file_list:\n",
    "    # 定义路径变量：文件、历史文件、预测文件\n",
    "    file_path = file\n",
    "    output_path1 = '/media/sf_VM_VirtualBox_Ubnutu/tas_111/tas_yearmean/'+file[0:-16]+'1971-2000_yearmean.nc'\n",
    "    output_path2 = '/media/sf_VM_VirtualBox_Ubnutu/tas_111/tas_yearmean/'+file[0:-16]+'2001-2014_yearmean.nc'\n",
    "    output_path3 = '/media/sf_VM_VirtualBox_Ubnutu/tas_111/tas_yearmean/'+file[0:-16]+'2015-2060_yearmean.nc'\n",
    "    # 构建cdo命令\n",
    "    command1 = f'cdo -yearmean {file_path} {output_path1}'\n",
    "    command2 = f'cdo -yearmean {file_path} {output_path2}'\n",
    "    command3 = f'cdo -yearmean {file_path} {output_path3}'\n",
    "    # 分类运行时间筛选的cdo命令\n",
    "    if \"197101-200012\" in file:\n",
    "        subprocess.run(command1, shell=True)\n",
    "    elif \"200101-201412\" in file:\n",
    "        subprocess.run(command2, shell=True)\n",
    "    else:\n",
    "        subprocess.run(command3, shell=True)"
   ]
  },
  {
   "cell_type": "code",
   "execution_count": null,
   "id": "867ce172",
   "metadata": {
    "scrolled": true
   },
   "outputs": [],
   "source": [
    "import os\n",
    "os.chdir(\"/media/sf_VM_VirtualBox_Ubnutu/tas_111/tas_yearmean\")\n",
    "!ls"
   ]
  },
  {
   "cell_type": "code",
   "execution_count": null,
   "id": "60eb04e6",
   "metadata": {
    "scrolled": true
   },
   "outputs": [],
   "source": [
    "!cdo info tas_Amon_AWI-CM-1-1-MR_historical_r1i1p1f1_1971-2000_yearmean.nc"
   ]
  },
  {
   "cell_type": "code",
   "execution_count": null,
   "id": "31d3b85e",
   "metadata": {
    "scrolled": true
   },
   "outputs": [],
   "source": [
    "!cdo griddes /media/sf_VM_VirtualBox_Ubnutu/obs_tas_1971-2000.nc"
   ]
  },
  {
   "cell_type": "code",
   "execution_count": null,
   "id": "1e9bf9a0",
   "metadata": {
    "scrolled": true
   },
   "outputs": [],
   "source": [
    "!cdo griddes tas_Amon_AWI-CM-1-1-MR_historical_r1i1p1f1_1971-2000_yearmean.nc"
   ]
  },
  {
   "cell_type": "code",
   "execution_count": null,
   "id": "b530067d",
   "metadata": {},
   "outputs": [],
   "source": [
    "# 修正格网格式\n",
    "\n",
    "# 运行前在路径中新建“tas_cngrid”文件夹\n",
    "import subprocess\n",
    "import os\n",
    "# 定义处理路径\n",
    "os.chdir(\"/media/sf_VM_VirtualBox_Ubnutu/tas_111/tas_yearmean\")\n",
    "os.mkdir(\"/media/sf_VM_VirtualBox_Ubnutu/tas_111/tas_cngrid\") # 新建文件夹\n",
    "# 提取格网形式\n",
    "!cdo griddes /media/sf_VM_VirtualBox_Ubnutu/obs_tas_1971-2000.nc >grid_cn\n",
    "# 修改格网形式\n",
    "!sed -i \"s/generic/lonlat/g\" grid_cn\n",
    "grid_cn=!cat grid_cn\n",
    "\n",
    "file_list = os.listdir()\n",
    "\n",
    "for file in file_list:\n",
    "    # 定义路径变量：文件、输出文件\n",
    "    file_path = file\n",
    "    output_path = '/media/sf_VM_VirtualBox_Ubnutu/tas_111/tas_cngrid/'+file[0:-3]+'_cngrid.nc'\n",
    "    # 构建cdo命令\n",
    "    command = f'cdo setgrid,grid_cn {file_path} {output_path}'\n",
    "    # 运行cdo命令\n",
    "    subprocess.run(command, shell=True)\n",
    "# 修改原观测文件格网形式至统一\n",
    "!cdo setgrid,grid_cn /media/sf_VM_VirtualBox_Ubnutu/obs_tas_1971-2000.nc /media/sf_VM_VirtualBox_Ubnutu/obs_tas_1971-2000_cngrid.nc"
   ]
  },
  {
   "cell_type": "code",
   "execution_count": null,
   "id": "4a6b1058",
   "metadata": {
    "scrolled": true
   },
   "outputs": [],
   "source": [
    "os.chdir(\"/media/sf_VM_VirtualBox_Ubnutu/tas_111/tas_cngrid\")\n",
    "!ls"
   ]
  },
  {
   "cell_type": "code",
   "execution_count": null,
   "id": "b743c95e",
   "metadata": {
    "scrolled": true
   },
   "outputs": [],
   "source": [
    "!cdo griddes /media/sf_VM_VirtualBox_Ubnutu/obs_tas_1971-2000_cngrid.nc"
   ]
  },
  {
   "cell_type": "code",
   "execution_count": null,
   "id": "3aab6b0d",
   "metadata": {},
   "outputs": [],
   "source": [
    "!cdo griddes tas_Amon_AWI-CM-1-1-MR_historical_r1i1p1f1_1971-2000_yearmean_cngrid.nc"
   ]
  },
  {
   "cell_type": "code",
   "execution_count": null,
   "id": "fe5dc6f8",
   "metadata": {},
   "outputs": [],
   "source": [
    "# 裁剪研究区域\n",
    "\n",
    "# 运行前在路径中新建“tas_china”文件夹\n",
    "import os\n",
    "import subprocess\n",
    "os.chdir(\"/media/sf_VM_VirtualBox_Ubnutu/tas_111/tas_cngrid\")\n",
    "os.mkdir(\"/media/sf_VM_VirtualBox_Ubnutu/tas_111/tas_china\") # 新建文件夹\n",
    "# 筛选区域\n",
    "# 获取文件列表\n",
    "file_list = os.listdir()\n",
    "\n",
    "for file in file_list:\n",
    "    # 定义路径变量：文件、输出文件\n",
    "    file_path = file\n",
    "    output_path = '/media/sf_VM_VirtualBox_Ubnutu/tas_111/tas_china/'+file[0:-3]+'_china.nc'\n",
    "    # 构建cdo命令\n",
    "    command = f'cdo -sellonlatbox,67,137,14,55 {file_path} {output_path}'\n",
    "    # 运行cdo命令\n",
    "    subprocess.run(command, shell=True)"
   ]
  },
  {
   "cell_type": "code",
   "execution_count": null,
   "id": "066a1b33",
   "metadata": {
    "scrolled": true
   },
   "outputs": [],
   "source": [
    "os.chdir(\"/media/sf_VM_VirtualBox_Ubnutu/tas_111/tas_china\")\n",
    "!ls"
   ]
  },
  {
   "cell_type": "code",
   "execution_count": null,
   "id": "a5009bd2",
   "metadata": {},
   "outputs": [],
   "source": [
    "!cdo griddes tas_Amon_AWI-CM-1-1-MR_historical_r1i1p1f1_1971-2000_yearmean_cngrid_china.nc"
   ]
  },
  {
   "cell_type": "code",
   "execution_count": null,
   "id": "632e3c8d",
   "metadata": {},
   "outputs": [],
   "source": [
    "# 降尺度\n",
    "# 运行前在路径中新建“tas_china_cngridbil”文件夹\n",
    "# 把grid_cn文件粘贴至工作路径\n",
    "import os\n",
    "import subprocess\n",
    "os.chdir(\"/media/sf_VM_VirtualBox_Ubnutu/tas_111/tas_china\")\n",
    "#os.mkdir(\"/media/sf_VM_VirtualBox_Ubnutu/tas_111/tas_china_cngridbil\") # 新建文件夹\n",
    "# 获取文件列表\n",
    "file_list = os.listdir()\n",
    "\n",
    "for file in file_list:\n",
    "    # 定义路径变量：文件、输出文件\n",
    "    file_path = file\n",
    "    output_path = '/media/sf_VM_VirtualBox_Ubnutu/tas_111/tas_china_cngridbil/'+file[0:-15]+'cngridbil_china.nc'\n",
    "    # 构建cdo命令\n",
    "    command = f'cdo -remapbil,grid_cn {file_path} {output_path}'\n",
    "    # 运行cdo命令\n",
    "    subprocess.run(command, shell=True)"
   ]
  },
  {
   "cell_type": "code",
   "execution_count": null,
   "id": "809d4be7",
   "metadata": {
    "scrolled": true
   },
   "outputs": [],
   "source": [
    "os.chdir(\"/media/sf_VM_VirtualBox_Ubnutu/tas_111/tas_china_cngridbil\")\n",
    "!ls"
   ]
  },
  {
   "cell_type": "code",
   "execution_count": null,
   "id": "29871607",
   "metadata": {},
   "outputs": [],
   "source": [
    "!cdo griddes tas_Amon_AWI-CM-1-1-MR_historical_r1i1p1f1_1971-2000_yearmean_cngridbil_china.nc"
   ]
  },
  {
   "cell_type": "code",
   "execution_count": null,
   "id": "9705a30e",
   "metadata": {},
   "outputs": [],
   "source": [
    "# 模式平均\n",
    "\n",
    "# 运行前在路径中新建“tas_modemean”文件夹\n",
    "os.chdir(\"/media/sf_VM_VirtualBox_Ubnutu/tas_111/tas_china_cngridbil\")\n",
    "os.mkdir(\"/media/sf_VM_VirtualBox_Ubnutu/tas_111/tas_modemean\") # 新建文件夹\n",
    "!cdo -ensmean  *historical_r1i1p1f1_1971-2000*.nc /media/sf_VM_VirtualBox_Ubnutu/tas_111/tas_modemean/tas_historical_1971-2000_yearmean_cngridbil_china.nc\n",
    "!cdo -ensmean  *historical_r1i1p1f1_2001-2014*.nc /media/sf_VM_VirtualBox_Ubnutu/tas_111/tas_modemean/tas_historical_2001-2014_yearmean_cngridbil_china.nc\n",
    "!cdo -ensmean  *ssp126*.nc /media/sf_VM_VirtualBox_Ubnutu/tas_111/tas_modemean/tas_ssp126_2015-2060_yearmean_cngridbil_china.nc\n",
    "!cdo -ensmean  *ssp245*.nc /media/sf_VM_VirtualBox_Ubnutu/tas_111/tas_modemean/tas_ssp245_2015-2060_yearmean_cngridbil_china.nc\n",
    "!cdo -ensmean  *ssp585*.nc /media/sf_VM_VirtualBox_Ubnutu/tas_111/tas_modemean/tas_ssp585_2015-2060_yearmean_cngridbil_china.nc"
   ]
  },
  {
   "cell_type": "code",
   "execution_count": null,
   "id": "c7d2c24c",
   "metadata": {},
   "outputs": [],
   "source": [
    "import os\n",
    "os.chdir(\"/media/sf_VM_VirtualBox_Ubnutu/tas_111/tas_modemean\")\n",
    "!ls"
   ]
  },
  {
   "cell_type": "code",
   "execution_count": null,
   "id": "2c745015",
   "metadata": {},
   "outputs": [],
   "source": [
    "!cdo griddes tas_ssp126_2015-2060_yearmean_cngridbil_china.nc"
   ]
  },
  {
   "cell_type": "code",
   "execution_count": null,
   "id": "694530cb",
   "metadata": {},
   "outputs": [],
   "source": [
    "!cdo -timmean  tas_historical_1971-2000_yearmean_cngridbil_china.nc tas_historical_1971-2000_timmean_cngridbil_china.nc"
   ]
  },
  {
   "cell_type": "code",
   "execution_count": null,
   "id": "b7f6bddf",
   "metadata": {},
   "outputs": [],
   "source": [
    "!cdo info tas_historical_1971-2000_timmean_cngridbil_china.nc"
   ]
  },
  {
   "cell_type": "code",
   "execution_count": null,
   "id": "4a92fe31",
   "metadata": {},
   "outputs": [],
   "source": [
    "!cdo info /media/sf_VM_VirtualBox_Ubnutu/obs_tas_1971-2000_cngrid.nc"
   ]
  },
  {
   "cell_type": "code",
   "execution_count": null,
   "id": "4bff0e94",
   "metadata": {},
   "outputs": [],
   "source": [
    "!cdo info tas_add_delta.nc"
   ]
  },
  {
   "cell_type": "code",
   "execution_count": null,
   "id": "5b3df59d",
   "metadata": {},
   "outputs": [],
   "source": [
    "# 求加性偏差\n",
    "os.chdir(\"/media/sf_VM_VirtualBox_Ubnutu/tas_111/tas_modemean\")\n",
    "!cdo -s -f nc -sub  -sellevel,0 /media/sf_VM_VirtualBox_Ubnutu/obs_tas_1971-2000_cngrid.nc -sellevel,2 -subc,273.15 tas_historical_1971-2000_timmean_cngridbil_china.nc tas_add_delta.nc"
   ]
  },
  {
   "cell_type": "code",
   "execution_count": null,
   "id": "b86d4cea",
   "metadata": {},
   "outputs": [],
   "source": [
    "# 订正gcm\n",
    "\n",
    "# 运行前在路径中新建“tas_downscaled”文件夹\n",
    "os.chdir(\"/media/sf_VM_VirtualBox_Ubnutu/tas_111/tas_modemean\")\n",
    "os.mkdir(\"/media/sf_VM_VirtualBox_Ubnutu/tas_add_downscaled\") # 新建文件夹\n",
    "!cdo -s -f nc -add  -subc,273.15 tas_historical_2001-2014_yearmean_cngridbil_china.nc tas_add_delta.nc /media/sf_VM_VirtualBox_Ubnutu/tas_add_downscaled/tas_historical_2001-2014_yearmean_downscaled_china.nc\n",
    "!cdo -s -f nc -add  -subc,273.15 tas_ssp126_2015-2060_yearmean_cngridbil_china.nc tas_add_delta.nc /media/sf_VM_VirtualBox_Ubnutu/tas_add_downscaled/tas_ssp126_2015-2060_yearmean_downscaled_china.nc\n",
    "!cdo -s -f nc -add  -subc,273.15 tas_ssp245_2015-2060_yearmean_cngridbil_china.nc tas_add_delta.nc /media/sf_VM_VirtualBox_Ubnutu/tas_add_downscaled/tas_ssp245_2015-2060_yearmean_downscaled_china.nc\n",
    "!cdo -s -f nc -add  -subc,273.15 tas_ssp585_2015-2060_yearmean_cngridbil_china.nc tas_add_delta.nc /media/sf_VM_VirtualBox_Ubnutu/tas_add_downscaled/tas_ssp585_2015-2060_yearmean_downscaled_china.nc"
   ]
  },
  {
   "cell_type": "code",
   "execution_count": null,
   "id": "812ba5f6",
   "metadata": {},
   "outputs": [],
   "source": [
    "os.chdir(\"/media/sf_VM_VirtualBox_Ubnutu/tas_add_downscaled\")\n",
    "!ls"
   ]
  },
  {
   "cell_type": "code",
   "execution_count": null,
   "id": "b105ee6e",
   "metadata": {
    "scrolled": true
   },
   "outputs": [],
   "source": [
    "!cdo info tas_historical_2001-2014_yearmean_downscaled_china.nc"
   ]
  },
  {
   "cell_type": "code",
   "execution_count": null,
   "id": "405a3ef0",
   "metadata": {
    "scrolled": true
   },
   "outputs": [],
   "source": [
    "!cdo info tas_ssp126_2015-2060_yearmean_downscaled_china.nc"
   ]
  },
  {
   "cell_type": "code",
   "execution_count": null,
   "id": "b539d218",
   "metadata": {
    "scrolled": true
   },
   "outputs": [],
   "source": [
    "!cdo info tas_ssp245_2015-2060_yearmean_downscaled_china.nc"
   ]
  },
  {
   "cell_type": "code",
   "execution_count": null,
   "id": "61a6fc08",
   "metadata": {
    "scrolled": true
   },
   "outputs": [],
   "source": [
    "!cdo info tas_ssp585_2015-2060_yearmean_downscaled_china.nc"
   ]
  },
  {
   "cell_type": "code",
   "execution_count": null,
   "id": "a2128f71",
   "metadata": {},
   "outputs": [],
   "source": [
    "os.chdir(\"/media/sf_VM_VirtualBox_Ubnutu/tas_111/tas_modemean\")\n",
    "!cdo info tas_historical_1971-2000_timmean_cngridbil_china.nc"
   ]
  },
  {
   "cell_type": "code",
   "execution_count": null,
   "id": "786a7110",
   "metadata": {},
   "outputs": [],
   "source": [
    "!cdo info /media/sf_VM_VirtualBox_Ubnutu/obs_tas_1971-2000_cngrid.nc"
   ]
  },
  {
   "cell_type": "code",
   "execution_count": null,
   "id": "dc7aa11a",
   "metadata": {},
   "outputs": [],
   "source": [
    "! cdo info -div  -sellevel,0 /media/sf_VM_VirtualBox_Ubnutu/obs_tas_1971-2000_cngrid.nc -sellevel,2 -subc,273.15 tas_historical_1971-2000_timmean_cngridbil_china.nc"
   ]
  },
  {
   "cell_type": "code",
   "execution_count": null,
   "id": "7a267854",
   "metadata": {},
   "outputs": [],
   "source": [
    "# 求比例偏差\n",
    "os.chdir(\"/media/sf_VM_VirtualBox_Ubnutu/tas_111/tas_modemean\")\n",
    "!cdo -s -f nc -div /media/sf_VM_VirtualBox_Ubnutu/obs_tas_1971-2000_cngrid.nc -subc,273.15 tas_historical_1971-2000_timmean_cngridbil_china.nc tas_mul_delta.nc"
   ]
  },
  {
   "cell_type": "code",
   "execution_count": null,
   "id": "fcf3438c",
   "metadata": {},
   "outputs": [],
   "source": [
    "!cdo info tas_mul_delta.nc"
   ]
  },
  {
   "cell_type": "code",
   "execution_count": null,
   "id": "91193f08",
   "metadata": {},
   "outputs": [],
   "source": [
    "# 订正gcm\n",
    "\n",
    "# 运行前在路径中新建“tas_downscaled”文件夹\n",
    "os.chdir(\"/media/sf_VM_VirtualBox_Ubnutu/tas_111/tas_modemean\")\n",
    "#os.mkdir(\"/media/sf_VM_VirtualBox_Ubnutu/tas_mul_downscaled\") # 新建文件夹\n",
    "!cdo -s -f nc -mul  -subc,273.15 tas_historical_2001-2014_yearmean_cngridbil_china.nc tas_mul_delta.nc /media/sf_VM_VirtualBox_Ubnutu/tas_mul_downscaled/tas_historical_2001-2014_yearmean_downscaled_china.nc\n",
    "!cdo -s -f nc -mul  -subc,273.15 tas_ssp126_2015-2060_yearmean_cngridbil_china.nc tas_mul_delta.nc /media/sf_VM_VirtualBox_Ubnutu/tas_mul_downscaled/tas_ssp126_2015-2060_yearmean_downscaled_china.nc\n",
    "!cdo -s -f nc -mul  -subc,273.15 tas_ssp245_2015-2060_yearmean_cngridbil_china.nc tas_mul_delta.nc /media/sf_VM_VirtualBox_Ubnutu/tas_mul_downscaled/tas_ssp245_2015-2060_yearmean_downscaled_china.nc\n",
    "!cdo -s -f nc -mul  -subc,273.15 tas_ssp585_2015-2060_yearmean_cngridbil_china.nc tas_mul_delta.nc /media/sf_VM_VirtualBox_Ubnutu/tas_mul_downscaled/tas_ssp585_2015-2060_yearmean_downscaled_china.nc"
   ]
  },
  {
   "cell_type": "code",
   "execution_count": null,
   "id": "e7bbc1b2",
   "metadata": {},
   "outputs": [],
   "source": [
    "os.chdir(\"/media/sf_VM_VirtualBox_Ubnutu/tas_mul_downscaled\")\n",
    "!ls"
   ]
  },
  {
   "cell_type": "code",
   "execution_count": null,
   "id": "3986fadb",
   "metadata": {},
   "outputs": [],
   "source": [
    "!cdo info tas_historical_2001-2014_yearmean_downscaled_china.nc"
   ]
  },
  {
   "cell_type": "code",
   "execution_count": null,
   "id": "e704d0e0",
   "metadata": {
    "scrolled": true
   },
   "outputs": [],
   "source": [
    "!cdo info tas_ssp126_2015-2060_yearmean_downscaled_china.nc"
   ]
  },
  {
   "cell_type": "code",
   "execution_count": null,
   "id": "a4837ef2",
   "metadata": {},
   "outputs": [],
   "source": [
    "!cdo info tas_ssp245_2015-2060_yearmean_downscaled_china.nc"
   ]
  },
  {
   "cell_type": "code",
   "execution_count": null,
   "id": "1d99f2ae",
   "metadata": {},
   "outputs": [],
   "source": [
    "!cdo info tas_ssp585_2015-2060_yearmean_downscaled_china.nc"
   ]
  },
  {
   "cell_type": "code",
   "execution_count": null,
   "id": "d47609a8",
   "metadata": {},
   "outputs": [],
   "source": [
    "import os\n",
    "os.chdir(\"/media/sf_VM_VirtualBox_Ubnutu/tas_mul_downscaled\")\n",
    "!ls"
   ]
  },
  {
   "cell_type": "code",
   "execution_count": null,
   "id": "a544e016",
   "metadata": {},
   "outputs": [],
   "source": [
    "!cdo timmean tas_historical_2001-2014_yearmean_downscaled_china.nc tas_historical_2001-2014_timmean_downscaled_china.nc"
   ]
  },
  {
   "cell_type": "code",
   "execution_count": null,
   "id": "c1ab808b",
   "metadata": {},
   "outputs": [],
   "source": []
  }
 ],
 "metadata": {
  "kernelspec": {
   "display_name": "Python 3",
   "language": "python",
   "name": "python3"
  },
  "language_info": {
   "codemirror_mode": {
    "name": "ipython",
    "version": 3
   },
   "file_extension": ".py",
   "mimetype": "text/x-python",
   "name": "python",
   "nbconvert_exporter": "python",
   "pygments_lexer": "ipython3",
   "version": "3.8.8"
  }
 },
 "nbformat": 4,
 "nbformat_minor": 5
}
