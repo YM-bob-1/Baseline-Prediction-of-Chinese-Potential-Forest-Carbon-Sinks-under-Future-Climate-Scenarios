{
 "cells": [
  {
   "cell_type": "code",
   "execution_count": null,
   "id": "f6ba651e",
   "metadata": {},
   "outputs": [],
   "source": [
    "# 设置工作路径\n",
    "import os\n",
    "os.chdir(\"/media/sf_VM_VirtualBox_Ubnutu/pr\")\n",
    "!ls"
   ]
  },
  {
   "cell_type": "code",
   "execution_count": null,
   "id": "5e7465b9",
   "metadata": {},
   "outputs": [],
   "source": [
    "!cdo info  -mulc,31536000 -yearmean pr_Amon_MPI-ESM1-2-HR_historical_r1i1p1f1_gn_201001-201412.nc"
   ]
  },
  {
   "cell_type": "code",
   "execution_count": null,
   "id": "58107f5c",
   "metadata": {},
   "outputs": [],
   "source": [
    "# 合并不同时间的同模式文件\n",
    "# 运行前在路径中新建“tas_mergetime”文件夹\n",
    "import subprocess\n",
    "\n",
    "os.mkdir(\"/media/sf_VM_VirtualBox_Ubnutu/pr_111/pr_mergetime\") # 新建文件夹\n",
    "# 获取当前目录下所有文件的列表\n",
    "file_list = os.listdir()\n",
    "# 去除文件名后续日期\n",
    "for i in range(len(file_list)):\n",
    "    file_list[i]=file_list[i][0:-19]\n",
    "# 去除重复项\n",
    "file_list=list(set(file_list)) \n",
    "\n",
    "for file in file_list:\n",
    "    # python文件路径变量定义\n",
    "    file_path = file+'*.nc'\n",
    "    output_path = '/media/sf_VM_VirtualBox_Ubnutu/pr_111/pr_mergetime/'+file+'mergetime.nc'\n",
    "    # 构建cdo命令\n",
    "    command = f'cdo -mergetime {file_path} {output_path}'\n",
    "    # 运行cdo命令\n",
    "    subprocess.run(command, shell=True)"
   ]
  },
  {
   "cell_type": "code",
   "execution_count": null,
   "id": "6ffde09d",
   "metadata": {
    "scrolled": true
   },
   "outputs": [],
   "source": [
    "# 修改处理路径\n",
    "os.chdir(\"/media/sf_VM_VirtualBox_Ubnutu/pr_111/pr_mergetime\")\n",
    "!ls"
   ]
  },
  {
   "cell_type": "code",
   "execution_count": null,
   "id": "54120224",
   "metadata": {},
   "outputs": [],
   "source": [
    "# 筛选进行运算的年份(时间)\n",
    "# 运行前在路径中新建“tas_seltime”文件夹\n",
    "import subprocess\n",
    "\n",
    "os.mkdir(\"/media/sf_VM_VirtualBox_Ubnutu/pr_111/pr_seltime\") # 新建文件夹\n",
    "# 获取路径文件列表\n",
    "file_list = os.listdir()\n",
    "# 筛选模式的数据年份\n",
    "for file in file_list:\n",
    "    # 定义路径变量：文件、历史文件、预测文件\n",
    "    file_path = file\n",
    "    # 分historical与其它模式分别构建命令\n",
    "    output_path1 = '/media/sf_VM_VirtualBox_Ubnutu/pr_111/pr_seltime/'+file[0:-12]+'197101-200012.nc'\n",
    "    output_path2 = '/media/sf_VM_VirtualBox_Ubnutu/pr_111/pr_seltime/'+file[0:-12]+'200101-201412.nc'\n",
    "    output_path3 = '/media/sf_VM_VirtualBox_Ubnutu/pr_111/pr_seltime/'+file[0:-12]+'201501-206012.nc'\n",
    "    # 构建cdo命令\n",
    "    command1 = f'cdo -selyear,1971/2000 {file_path} {output_path1}'\n",
    "    command2 = f'cdo -selyear,2001/2014 {file_path} {output_path2}'\n",
    "    command3 = f'cdo -selyear,2015/2060 {file_path} {output_path3}'\n",
    "    # 分类运行时间筛选的cdo命令\n",
    "    if \"historical\" in file:\n",
    "        subprocess.run(command1, shell=True)\n",
    "        subprocess.run(command2, shell=True)\n",
    "    else:\n",
    "        subprocess.run(command3, shell=True)"
   ]
  },
  {
   "cell_type": "code",
   "execution_count": null,
   "id": "0ea50929",
   "metadata": {},
   "outputs": [],
   "source": [
    "os.chdir(\"/media/sf_VM_VirtualBox_Ubnutu/pr_111/pr_seltime\")\n",
    "!ls"
   ]
  },
  {
   "cell_type": "code",
   "execution_count": null,
   "id": "4731dd3e",
   "metadata": {},
   "outputs": [],
   "source": [
    "!cdo showyear pr_Amon_NorESM2-MM_historical_r1i1p1f1_200101-201412.nc"
   ]
  },
  {
   "cell_type": "code",
   "execution_count": null,
   "id": "204d1ec6",
   "metadata": {},
   "outputs": [],
   "source": [
    "# 求各模式文件的年总降水\n",
    "# 运行前在路径中新建“pe_yearsum”文件夹\n",
    "\n",
    "os.chdir(\"/media/sf_VM_VirtualBox_Ubnutu/pr_111/pr_seltime\")\n",
    "os.mkdir(\"/media/sf_VM_VirtualBox_Ubnutu/pr_111/pr_yearsum\") # 新建文件夹\n",
    "file_list = os.listdir()\n",
    "# 筛选模式的数据年份\n",
    "for file in file_list:\n",
    "    # 定义路径变量：文件、历史文件、预测文件\n",
    "    file_path = file\n",
    "    output_path1 = '/media/sf_VM_VirtualBox_Ubnutu/pr_111/pr_yearsum/'+file[0:-16]+'1971-2000_yearsum.nc'\n",
    "    output_path2 = '/media/sf_VM_VirtualBox_Ubnutu/pr_111/pr_yearsum/'+file[0:-16]+'2001-2014_yearsum.nc'\n",
    "    output_path3 = '/media/sf_VM_VirtualBox_Ubnutu/pr_111/pr_yearsum/'+file[0:-16]+'2015-2060_yearsum.nc'\n",
    "    # 构建cdo命令\n",
    "    command1 = f'cdo -yearsum {file_path} {output_path1}'\n",
    "    command2 = f'cdo -yearsum {file_path} {output_path2}'\n",
    "    command3 = f'cdo -yearsum {file_path} {output_path3}'\n",
    "    # 分类运行时间筛选的cdo命令\n",
    "    if \"197101-200012\" in file:\n",
    "        subprocess.run(command1, shell=True)\n",
    "    elif \"200101-201412\" in file:\n",
    "        subprocess.run(command2, shell=True)\n",
    "    else:\n",
    "        subprocess.run(command3, shell=True)"
   ]
  },
  {
   "cell_type": "code",
   "execution_count": null,
   "id": "c4758231",
   "metadata": {
    "scrolled": true
   },
   "outputs": [],
   "source": [
    "os.chdir(\"/media/sf_VM_VirtualBox_Ubnutu/pr_111/pr_yearsum\")\n",
    "!ls"
   ]
  },
  {
   "cell_type": "code",
   "execution_count": null,
   "id": "0e2f16a8",
   "metadata": {},
   "outputs": [],
   "source": []
  },
  {
   "cell_type": "code",
   "execution_count": null,
   "id": "f6dd3289",
   "metadata": {
    "scrolled": true
   },
   "outputs": [],
   "source": [
    "!cdo info pr_Amon_AWI-CM-1-1-MR_historical_r1i1p1f1_1971-2000_yearsum.nc"
   ]
  },
  {
   "cell_type": "code",
   "execution_count": null,
   "id": "f6b22c0c",
   "metadata": {
    "scrolled": true
   },
   "outputs": [],
   "source": [
    "!cdo griddes /media/sf_VM_VirtualBox_Ubnutu/obs_pr_1971-2000.nc"
   ]
  },
  {
   "cell_type": "code",
   "execution_count": null,
   "id": "641479b4",
   "metadata": {},
   "outputs": [],
   "source": [
    "# 修正格网格式\n",
    "\n",
    "# 运行前在路径中新建“tas_cngrid”文件夹\n",
    "import subprocess\n",
    "import os\n",
    "# 定义处理路径\n",
    "os.chdir(\"/media/sf_VM_VirtualBox_Ubnutu/pr_111/pr_yearsum\")\n",
    "os.mkdir(\"/media/sf_VM_VirtualBox_Ubnutu/pr_111/pr_cngrid\") # 新建文件夹\n",
    "# 提取格网形式\n",
    "!cdo griddes /media/sf_VM_VirtualBox_Ubnutu/obs_pr_1971-2000.nc >grid_cn\n",
    "# 修改格网形式\n",
    "!sed -i \"s/generic/lonlat/g\" grid_cn\n",
    "grid_cn=!cat grid_cn\n",
    "\n",
    "file_list = os.listdir()\n",
    "\n",
    "for file in file_list:\n",
    "    # 定义路径变量：文件、输出文件\n",
    "    file_path = file\n",
    "    output_path = '/media/sf_VM_VirtualBox_Ubnutu/pr_111/pr_cngrid/'+file[0:-3]+'_cngrid.nc'\n",
    "    # 构建cdo命令\n",
    "    command = f'cdo setgrid,grid_cn {file_path} {output_path}'\n",
    "    # 运行cdo命令\n",
    "    subprocess.run(command, shell=True)\n",
    "# 修改原观测文件格网形式至统一\n",
    "!cdo setgrid,grid_cn /media/sf_VM_VirtualBox_Ubnutu/obs_pr_1971-2000.nc /media/sf_VM_VirtualBox_Ubnutu/obs_pr_1971-2000_cngrid.nc"
   ]
  },
  {
   "cell_type": "code",
   "execution_count": null,
   "id": "d92eac77",
   "metadata": {
    "scrolled": true
   },
   "outputs": [],
   "source": [
    "os.chdir(\"/media/sf_VM_VirtualBox_Ubnutu/pr_111/pr_cngrid\")\n",
    "!ls"
   ]
  },
  {
   "cell_type": "code",
   "execution_count": null,
   "id": "bdd4711a",
   "metadata": {},
   "outputs": [],
   "source": [
    "!cdo griddes /media/sf_VM_VirtualBox_Ubnutu/obs_pr_1971-2000_cngrid.nc"
   ]
  },
  {
   "cell_type": "code",
   "execution_count": null,
   "id": "bde14ba6",
   "metadata": {},
   "outputs": [],
   "source": [
    "# 裁剪研究区域\n",
    "\n",
    "# 运行前在路径中新建“tas_china”文件夹\n",
    "import os\n",
    "import subprocess\n",
    "os.chdir(\"/media/sf_VM_VirtualBox_Ubnutu/pr_111/pr_cngrid\")\n",
    "os.mkdir(\"/media/sf_VM_VirtualBox_Ubnutu/pr_111/pr_china\") # 新建文件夹\n",
    "# 筛选区域\n",
    "# 获取文件列表\n",
    "file_list = os.listdir()\n",
    "\n",
    "for file in file_list:\n",
    "    # 定义路径变量：文件、输出文件\n",
    "    file_path = file\n",
    "    output_path = '/media/sf_VM_VirtualBox_Ubnutu/pr_111/pr_china/'+file[0:-3]+'_china.nc'\n",
    "    # 构建cdo命令\n",
    "    command = f'cdo -sellonlatbox,67,137,14,55 {file_path} {output_path}'\n",
    "    # 运行cdo命令\n",
    "    subprocess.run(command, shell=True)"
   ]
  },
  {
   "cell_type": "code",
   "execution_count": null,
   "id": "d2ea073c",
   "metadata": {
    "scrolled": true
   },
   "outputs": [],
   "source": [
    "os.chdir(\"/media/sf_VM_VirtualBox_Ubnutu/pr_111/pr_china\")\n",
    "!ls"
   ]
  },
  {
   "cell_type": "code",
   "execution_count": null,
   "id": "45c38216",
   "metadata": {},
   "outputs": [],
   "source": [
    "!cdo griddes pr_Amon_AWI-CM-1-1-MR_historical_r1i1p1f1_2001-2014_yearsum_cngrid_china.nc"
   ]
  },
  {
   "cell_type": "code",
   "execution_count": null,
   "id": "9aa47258",
   "metadata": {},
   "outputs": [],
   "source": [
    "# 降尺度\n",
    "# 运行前在路径中新建“tas_china_cngridbil”文件夹\n",
    "# 把grid_cn文件粘贴至工作路径\n",
    "import os\n",
    "import subprocess\n",
    "os.chdir(\"/media/sf_VM_VirtualBox_Ubnutu/pr_111/pr_china\")\n",
    "os.mkdir(\"/media/sf_VM_VirtualBox_Ubnutu/pr_111/pr_china_cngridbil\") # 新建文件夹\n",
    "# 获取文件列表\n",
    "file_list = os.listdir()\n",
    "\n",
    "for file in file_list:\n",
    "    # 定义路径变量：文件、输出文件\n",
    "    file_path = file\n",
    "    output_path = '/media/sf_VM_VirtualBox_Ubnutu/pr_111/pr_china_cngridbil/'+file[0:-15]+'cngridbil_china.nc'\n",
    "    # 构建cdo命令\n",
    "    command = f'cdo -remapbil,grid_cn {file_path} {output_path}'\n",
    "    # 运行cdo命令\n",
    "    subprocess.run(command, shell=True)"
   ]
  },
  {
   "cell_type": "code",
   "execution_count": null,
   "id": "c47a61b5",
   "metadata": {
    "scrolled": true
   },
   "outputs": [],
   "source": [
    "import os\n",
    "os.chdir(\"/media/sf_VM_VirtualBox_Ubnutu/pr_111/pr_china_cngridbil\")\n",
    "!ls"
   ]
  },
  {
   "cell_type": "code",
   "execution_count": null,
   "id": "49476e6d",
   "metadata": {},
   "outputs": [],
   "source": [
    "!cdo griddes pr_Amon_AWI-CM-1-1-MR_ssp126_r1i1p1f1_2015-2060_yearsum_cngridbil_china.nc"
   ]
  },
  {
   "cell_type": "code",
   "execution_count": null,
   "id": "c8802905",
   "metadata": {},
   "outputs": [],
   "source": [
    "# 模式平均\n",
    "\n",
    "# 运行前在路径中新建“tas_modemean”文件夹\n",
    "os.chdir(\"/media/sf_VM_VirtualBox_Ubnutu/pr_111/pr_china_cngridbil\")\n",
    "os.mkdir(\"/media/sf_VM_VirtualBox_Ubnutu/pr_111/pr_modemean\") # 新建文件夹\n",
    "!cdo -ensmean  *historical_r1i1p1f1_1971-2000*.nc /media/sf_VM_VirtualBox_Ubnutu/pr_111/pr_modemean/pr_historical_1971-2000_yearsum_cngridbil_china.nc\n",
    "!cdo -ensmean  *historical_r1i1p1f1_2001-2014*.nc /media/sf_VM_VirtualBox_Ubnutu/pr_111/pr_modemean/pr_historical_2001-2014_yearsum_cngridbil_china.nc\n",
    "!cdo -ensmean  *ssp126*.nc /media/sf_VM_VirtualBox_Ubnutu/pr_111/pr_modemean/pr_ssp126_2015-2060_yearsum_cngridbil_china.nc\n",
    "!cdo -ensmean  *ssp245*.nc /media/sf_VM_VirtualBox_Ubnutu/pr_111/pr_modemean/pr_ssp245_2015-2060_yearsum_cngridbil_china.nc\n",
    "!cdo -ensmean  *ssp585*.nc /media/sf_VM_VirtualBox_Ubnutu/pr_111/pr_modemean/pr_ssp585_2015-2060_yearsum_cngridbil_china.nc"
   ]
  },
  {
   "cell_type": "code",
   "execution_count": null,
   "id": "ce8f796b",
   "metadata": {},
   "outputs": [],
   "source": [
    "import os\n",
    "os.chdir(\"/media/sf_VM_VirtualBox_Ubnutu/pr_111/pr_modemean\")\n",
    "!ls"
   ]
  },
  {
   "cell_type": "code",
   "execution_count": null,
   "id": "87c9fce7",
   "metadata": {},
   "outputs": [],
   "source": [
    "!cdo griddes pr_historical_2001-2014_yearsum_cngridbil_china.nc"
   ]
  },
  {
   "cell_type": "code",
   "execution_count": null,
   "id": "5aa16b7b",
   "metadata": {},
   "outputs": [],
   "source": [
    "!cdo -timmean  pr_historical_1971-2000_yearsum_cngridbil_china.nc pr_historical_1971-2000_timmean_cngridbil_china.nc"
   ]
  },
  {
   "cell_type": "code",
   "execution_count": null,
   "id": "e2fbc3e9",
   "metadata": {},
   "outputs": [],
   "source": [
    "!cdo info -mulc,86400 pr_historical_1971-2000_timmean_cngridbil_china.nc"
   ]
  },
  {
   "cell_type": "code",
   "execution_count": null,
   "id": "8b778c10",
   "metadata": {},
   "outputs": [],
   "source": [
    "!cdo info -mulc,0.1 /media/sf_VM_VirtualBox_Ubnutu/obs_pr_1971-2000_cngrid.nc"
   ]
  },
  {
   "cell_type": "code",
   "execution_count": null,
   "id": "9735739b",
   "metadata": {},
   "outputs": [],
   "source": [
    "# 求加性偏差\n",
    "os.chdir(\"/media/sf_VM_VirtualBox_Ubnutu/pr_111/pr_modemean\")\n",
    "!cdo -s -f nc -sub -mulc,0.1 /media/sf_VM_VirtualBox_Ubnutu/obs_pr_1971-2000_cngrid.nc -mulc,86400 pr_historical_1971-2000_timmean_cngridbil_china.nc pr_add_delta.nc"
   ]
  },
  {
   "cell_type": "code",
   "execution_count": null,
   "id": "9c4ccf21",
   "metadata": {},
   "outputs": [],
   "source": [
    "!cdo info pr_add_delta.nc"
   ]
  },
  {
   "cell_type": "code",
   "execution_count": null,
   "id": "a99ee30a",
   "metadata": {},
   "outputs": [],
   "source": [
    "# 订正gcm\n",
    "\n",
    "# 运行前在路径中新建“tas_downscaled”文件夹\n",
    "os.chdir(\"/media/sf_VM_VirtualBox_Ubnutu/pr_111/pr_modemean\")\n",
    "os.mkdir(\"/media/sf_VM_VirtualBox_Ubnutu/pr_add_downscaled\") # 新建文件夹\n",
    "!cdo -s -f nc -add  -mulc,86400 pr_historical_2001-2014_yearsum_cngridbil_china.nc pr_add_delta.nc /media/sf_VM_VirtualBox_Ubnutu/pr_add_downscaled/pr_historical_2001-2014_yearsum__downscaled_china.nc\n",
    "!cdo -s -f nc -add  -mulc,86400 pr_ssp126_2015-2060_yearsum_cngridbil_china.nc pr_add_delta.nc /media/sf_VM_VirtualBox_Ubnutu/pr_add_downscaled/pr_ssp126_2015-2060_yearsum_downscaled_china.nc\n",
    "!cdo -s -f nc -add  -mulc,86400 pr_ssp245_2015-2060_yearsum_cngridbil_china.nc pr_add_delta.nc /media/sf_VM_VirtualBox_Ubnutu/pr_add_downscaled/pr_ssp245_2015-2060_yearsum_downscaled_china.nc\n",
    "!cdo -s -f nc -add  -mulc,86400 pr_ssp585_2015-2060_yearsum_cngridbil_china.nc pr_add_delta.nc /media/sf_VM_VirtualBox_Ubnutu/pr_add_downscaled/pr_ssp585_2015-2060_yearsum_downscaled_china.nc"
   ]
  },
  {
   "cell_type": "code",
   "execution_count": null,
   "id": "3b6641fa",
   "metadata": {},
   "outputs": [],
   "source": [
    "os.chdir(\"/media/sf_VM_VirtualBox_Ubnutu/pr_add_downscaled\")\n",
    "!ls"
   ]
  },
  {
   "cell_type": "code",
   "execution_count": null,
   "id": "1b69704f",
   "metadata": {},
   "outputs": [],
   "source": [
    "!cdo info pr_historical_2001-2014_yearsum__downscaled_china.nc"
   ]
  },
  {
   "cell_type": "code",
   "execution_count": null,
   "id": "05af0da5",
   "metadata": {},
   "outputs": [],
   "source": [
    "!cdo info pr_ssp245_2015-2060_yearsum_downscaled_china.nc"
   ]
  },
  {
   "cell_type": "code",
   "execution_count": null,
   "id": "492574c0",
   "metadata": {},
   "outputs": [],
   "source": []
  },
  {
   "cell_type": "code",
   "execution_count": null,
   "id": "f52507b5",
   "metadata": {},
   "outputs": [],
   "source": [
    "# 求比例偏差\n",
    "os.chdir(\"/media/sf_VM_VirtualBox_Ubnutu/pr_111/pr_modemean\")\n",
    "!cdo -s -f nc -div -mulc,0.1 /media/sf_VM_VirtualBox_Ubnutu/obs_pr_1971-2000_cngrid.nc -mulc,86400 pr_historical_1971-2000_timmean_cngridbil_china.nc pr_mul_delta.nc"
   ]
  },
  {
   "cell_type": "code",
   "execution_count": null,
   "id": "dbf78574",
   "metadata": {},
   "outputs": [],
   "source": [
    "!cdo info pr_mul_delta.nc"
   ]
  },
  {
   "cell_type": "code",
   "execution_count": null,
   "id": "0853eb3f",
   "metadata": {},
   "outputs": [],
   "source": [
    "# 订正gcm\n",
    "\n",
    "# 运行前在路径中新建“tas_downscaled”文件夹\n",
    "os.chdir(\"/media/sf_VM_VirtualBox_Ubnutu/pr_111/pr_modemean\")\n",
    "os.mkdir(\"/media/sf_VM_VirtualBox_Ubnutu/pr_mul_downscaled\") # 新建文件夹\n",
    "!cdo -s -f nc -mul  -mulc,86400 pr_historical_2001-2014_yearsum_cngridbil_china.nc pr_mul_delta.nc /media/sf_VM_VirtualBox_Ubnutu/pr_mul_downscaled/pr_historical_2001-2014_yearsum_downscaled_china.nc\n",
    "!cdo -s -f nc -mul  -mulc,86400 pr_ssp126_2015-2060_yearsum_cngridbil_china.nc pr_mul_delta.nc /media/sf_VM_VirtualBox_Ubnutu/pr_mul_downscaled/pr_ssp126_2015-2060_yearsum_downscaled_china.nc\n",
    "!cdo -s -f nc -mul  -mulc,86400 pr_ssp245_2015-2060_yearsum_cngridbil_china.nc pr_mul_delta.nc /media/sf_VM_VirtualBox_Ubnutu/pr_mul_downscaled/pr_ssp245_2015-2060_yearsum_downscaled_china.nc\n",
    "!cdo -s -f nc -mul  -mulc,86400 pr_ssp585_2015-2060_yearsum_cngridbil_china.nc pr_mul_delta.nc /media/sf_VM_VirtualBox_Ubnutu/pr_mul_downscaled/pr_ssp585_2015-2060_yearsum_downscaled_china.nc"
   ]
  },
  {
   "cell_type": "code",
   "execution_count": null,
   "id": "0dc2b00d",
   "metadata": {},
   "outputs": [],
   "source": [
    "os.chdir(\"/media/sf_VM_VirtualBox_Ubnutu/pr_mul_downscaled\")\n",
    "!ls"
   ]
  },
  {
   "cell_type": "code",
   "execution_count": null,
   "id": "1cad3e30",
   "metadata": {},
   "outputs": [],
   "source": [
    "!cdo info pr_historical_2001-2014_yearsum_downscaled_china.nc"
   ]
  },
  {
   "cell_type": "code",
   "execution_count": null,
   "id": "8d2c17f8",
   "metadata": {},
   "outputs": [],
   "source": [
    "!cdo info pr_ssp126_2015-2060_yearsum_downscaled_china.nc"
   ]
  },
  {
   "cell_type": "code",
   "execution_count": null,
   "id": "fe11ce64",
   "metadata": {},
   "outputs": [],
   "source": []
  },
  {
   "cell_type": "code",
   "execution_count": null,
   "id": "b8271442",
   "metadata": {},
   "outputs": [],
   "source": []
  },
  {
   "cell_type": "code",
   "execution_count": null,
   "id": "ff49b8ac",
   "metadata": {},
   "outputs": [],
   "source": []
  }
 ],
 "metadata": {
  "kernelspec": {
   "display_name": "Python 3",
   "language": "python",
   "name": "python3"
  },
  "language_info": {
   "codemirror_mode": {
    "name": "ipython",
    "version": 3
   },
   "file_extension": ".py",
   "mimetype": "text/x-python",
   "name": "python",
   "nbconvert_exporter": "python",
   "pygments_lexer": "ipython3",
   "version": "3.8.8"
  }
 },
 "nbformat": 4,
 "nbformat_minor": 5
}
